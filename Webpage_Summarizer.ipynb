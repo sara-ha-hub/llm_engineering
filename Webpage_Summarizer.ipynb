{
 "cells": [
  {
   "cell_type": "markdown",
   "id": "56b046b7-2651-4e22-a8ae-ba446d12c081",
   "metadata": {},
   "source": [
    "# Creating an AI-Powered Web Page Summarizer "
   ]
  },
  {
   "cell_type": "code",
   "execution_count": null,
   "id": "dbfae126-18dc-4892-87fa-424a5c922625",
   "metadata": {},
   "outputs": [],
   "source": [
    "import os \n",
    "import requests \n",
    "from dotenv import load_dotenv\n",
    "from bs4 import BeautifulSoup\n",
    "from IPython.display import Markdown, display\n",
    "from openai import OpenAI"
   ]
  },
  {
   "cell_type": "code",
   "execution_count": null,
   "id": "75b6eee6-816a-4829-9fc0-47186606fcbc",
   "metadata": {},
   "outputs": [],
   "source": [
    "# The environment variables are loaded previously in a file called .env \n",
    "\n",
    "load_dotenv(override=True)\n",
    "api_key = os.getenv('OPENAI_API_KEY')\n",
    "\n",
    "if not api_key: \n",
    "    print(\"No API key was found!\")\n",
    "elif not api_key.startswith(\"sk-proj-\"):\n",
    "    print(\"An API key was found, but in a wrong format!\")\n",
    "elif api_key.strip() != api_key:\n",
    "    print(\"An API key was found, but with space at the start or end of it!\")\n",
    "else:\n",
    "    print(\"A correct API key was found!\")"
   ]
  },
  {
   "cell_type": "code",
   "execution_count": null,
   "id": "0f792cf4-4de9-4367-a3e9-f5a3661621e3",
   "metadata": {},
   "outputs": [],
   "source": [
    "openai = OpenAI()"
   ]
  },
  {
   "cell_type": "code",
   "execution_count": null,
   "id": "14a94680-b08d-4d14-8d84-06c508f7ad80",
   "metadata": {},
   "outputs": [],
   "source": [
    "headers = {\n",
    " \"User-Agent\": \"Mozilla/5.0 (Windows NT 10.0; Win64; x64) AppleWebKit/537.36 (KHTML, like Gecko) Chrome/117.0.0.0 Safari/537.36\"\n",
    "}    \n",
    "\n",
    "class Website:\n",
    "\n",
    "    def __init__(self, url):\n",
    "        \"\"\"\n",
    "        Create this Website object from the given url using the BeautifulSoup library\n",
    "        \"\"\"\n",
    "        self.url = url\n",
    "        response = requests.get(url, headers=headers)\n",
    "        soup = BeautifulSoup(response.content, 'html.parser')\n",
    "        self.title = soup.title.string if soup.title else \"No title found\"\n",
    "        for irrelevant in soup.body([\"script\", \"style\", \"img\", \"input\"]):\n",
    "            irrelevant.decompose()\n",
    "        self.text = soup.body.get_text(separator=\"\\n\", strip=True)\n"
   ]
  },
  {
   "cell_type": "code",
   "execution_count": null,
   "id": "e9c26714-1f1c-48af-aacb-f4c9d4ad37fe",
   "metadata": {},
   "outputs": [],
   "source": [
    "system_prompt = \"You are an assistant that analyzes the contents of a website \\\n",
    "and provides a short summary, ignoring text that might be navigation related. \\\n",
    "Respond in markdown.\""
   ]
  },
  {
   "cell_type": "code",
   "execution_count": null,
   "id": "225fd943-17e4-4523-ba36-d61b3fc78476",
   "metadata": {},
   "outputs": [],
   "source": [
    "def user_prompt(x):\n",
    "    user_prompt = f\"You are looking at a website titled {x.title}\"\n",
    "    user_prompt += \"\\nThe contents of this website is as follows; \\\n",
    "Please provide a short summary of this website in markdown. \\\n",
    "If it includes news or announcements, then summarize these too. \\n\\n\"\n",
    "    user_prompt += x.text\n",
    "    return user_prompt"
   ]
  },
  {
   "cell_type": "code",
   "execution_count": null,
   "id": "45e79609-59a5-4421-adff-10b41c40e417",
   "metadata": {},
   "outputs": [],
   "source": [
    "def message_for(y):\n",
    "    return[\n",
    "        {\"role\":\"system\", \"content\": system_prompt},\n",
    "        {\"role\":\"user\", \"content\": user_prompt(y)}\n",
    "    ]"
   ]
  },
  {
   "cell_type": "code",
   "execution_count": null,
   "id": "645b837a-4cab-4fd1-8d48-8641b7b04d30",
   "metadata": {},
   "outputs": [],
   "source": [
    "def summarize(url):\n",
    "    golabi = Website(url)\n",
    "    response = openai.chat.completions.create(model = \"gpt-4o-mini\", messages = message_for(golabi))\n",
    "    return response.choices[0].message.content"
   ]
  },
  {
   "cell_type": "code",
   "execution_count": null,
   "id": "aa201d60-6270-4a60-b78d-5388c49f696b",
   "metadata": {},
   "outputs": [],
   "source": [
    "def display_summary(url):\n",
    "    summary = summarize(url)\n",
    "    display(Markdown(summary))"
   ]
  },
  {
   "cell_type": "code",
   "execution_count": null,
   "id": "abea1ddb-847c-462f-a4c6-6cc91769baa1",
   "metadata": {},
   "outputs": [],
   "source": [
    "display_summary(\"https://edition.cnn.com/\")"
   ]
  },
  {
   "cell_type": "code",
   "execution_count": null,
   "id": "47886ecc-c150-46dc-aa63-11d18682be67",
   "metadata": {},
   "outputs": [],
   "source": []
  }
 ],
 "metadata": {
  "kernelspec": {
   "display_name": "Python 3 (ipykernel)",
   "language": "python",
   "name": "python3"
  },
  "language_info": {
   "codemirror_mode": {
    "name": "ipython",
    "version": 3
   },
   "file_extension": ".py",
   "mimetype": "text/x-python",
   "name": "python",
   "nbconvert_exporter": "python",
   "pygments_lexer": "ipython3",
   "version": "3.11.12"
  }
 },
 "nbformat": 4,
 "nbformat_minor": 5
}
